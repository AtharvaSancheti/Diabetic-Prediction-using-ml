{
 "cells": [
  {
   "cell_type": "code",
   "execution_count": 1,
   "id": "4bc2a5cd",
   "metadata": {},
   "outputs": [],
   "source": [
    "import numpy as np\n",
    "import copy\n",
    "from sklearn import preprocessing\n",
    "import tensorflow as tf\n",
    "from tensorflow import keras\n",
    "import os\n",
    "import pandas as pd\n",
    "from matplotlib import pyplot as plt\n",
    "from numpy.random import seed\n",
    "np.random.seed(2095)"
   ]
  },
  {
   "cell_type": "code",
   "execution_count": 8,
   "id": "b4390a3b",
   "metadata": {},
   "outputs": [],
   "source": [
    "data = pd.read_csv(\"diabetes.csv\")"
   ]
  },
  {
   "cell_type": "code",
   "execution_count": 9,
   "id": "9d964412-1b96-48a6-a299-86b085497e67",
   "metadata": {},
   "outputs": [
    {
     "data": {
      "text/plain": [
       "(768, 8)"
      ]
     },
     "execution_count": 9,
     "metadata": {},
     "output_type": "execute_result"
    }
   ],
   "source": [
    "data.shape"
   ]
  },
  {
   "cell_type": "code",
   "execution_count": 10,
   "id": "74042506-d699-45a5-916e-4aad043aae29",
   "metadata": {},
   "outputs": [
    {
     "data": {
      "text/plain": [
       "Index(['Glucose', 'BloodPressure', 'SkinThickness', 'Insulin', 'BMI',\n",
       "       'DiabetesPedigreeFunction', 'Age', 'Outcome'],\n",
       "      dtype='object')"
      ]
     },
     "execution_count": 10,
     "metadata": {},
     "output_type": "execute_result"
    }
   ],
   "source": [
    "data.columns"
   ]
  },
  {
   "cell_type": "code",
   "execution_count": 16,
   "id": "723e73dd-532e-44fc-9b54-2ad119f9ce02",
   "metadata": {},
   "outputs": [],
   "source": [
    "data = data[['Glucose', 'BloodPressure', 'SkinThickness', 'Insulin', 'BMI',\n",
    "       'DiabetesPedigreeFunction', 'Age', 'Outcome'] ]"
   ]
  },
  {
   "cell_type": "code",
   "execution_count": 17,
   "id": "a2b889be-0779-40d8-b3f2-4592de7c4c27",
   "metadata": {},
   "outputs": [
    {
     "data": {
      "text/plain": [
       "Index(['Glucose', 'BloodPressure', 'SkinThickness', 'Insulin', 'BMI',\n",
       "       'DiabetesPedigreeFunction', 'Age', 'Outcome'],\n",
       "      dtype='object')"
      ]
     },
     "execution_count": 17,
     "metadata": {},
     "output_type": "execute_result"
    }
   ],
   "source": [
    "data.columns"
   ]
  },
  {
   "cell_type": "code",
   "execution_count": 18,
   "id": "8da853c5-c835-4033-a145-042005f11ff8",
   "metadata": {},
   "outputs": [
    {
     "data": {
      "text/plain": [
       "Glucose                     0\n",
       "BloodPressure               0\n",
       "SkinThickness               0\n",
       "Insulin                     0\n",
       "BMI                         0\n",
       "DiabetesPedigreeFunction    0\n",
       "Age                         0\n",
       "Outcome                     0\n",
       "dtype: int64"
      ]
     },
     "execution_count": 18,
     "metadata": {},
     "output_type": "execute_result"
    }
   ],
   "source": [
    "data.isnull().sum()"
   ]
  },
  {
   "cell_type": "code",
   "execution_count": 19,
   "id": "57909bf5-16d0-488a-b6c3-e404fc8e2a99",
   "metadata": {
    "scrolled": true
   },
   "outputs": [
    {
     "data": {
      "text/html": [
       "<div>\n",
       "<style scoped>\n",
       "    .dataframe tbody tr th:only-of-type {\n",
       "        vertical-align: middle;\n",
       "    }\n",
       "\n",
       "    .dataframe tbody tr th {\n",
       "        vertical-align: top;\n",
       "    }\n",
       "\n",
       "    .dataframe thead th {\n",
       "        text-align: right;\n",
       "    }\n",
       "</style>\n",
       "<table border=\"1\" class=\"dataframe\">\n",
       "  <thead>\n",
       "    <tr style=\"text-align: right;\">\n",
       "      <th></th>\n",
       "      <th>Glucose</th>\n",
       "      <th>BloodPressure</th>\n",
       "      <th>SkinThickness</th>\n",
       "      <th>Insulin</th>\n",
       "      <th>BMI</th>\n",
       "      <th>DiabetesPedigreeFunction</th>\n",
       "      <th>Age</th>\n",
       "      <th>Outcome</th>\n",
       "    </tr>\n",
       "  </thead>\n",
       "  <tbody>\n",
       "    <tr>\n",
       "      <th>count</th>\n",
       "      <td>768.000000</td>\n",
       "      <td>768.000000</td>\n",
       "      <td>768.000000</td>\n",
       "      <td>768.000000</td>\n",
       "      <td>768.000000</td>\n",
       "      <td>768.000000</td>\n",
       "      <td>768.000000</td>\n",
       "      <td>768.000000</td>\n",
       "    </tr>\n",
       "    <tr>\n",
       "      <th>mean</th>\n",
       "      <td>120.894531</td>\n",
       "      <td>69.105469</td>\n",
       "      <td>20.536458</td>\n",
       "      <td>79.799479</td>\n",
       "      <td>31.992578</td>\n",
       "      <td>0.471876</td>\n",
       "      <td>33.240885</td>\n",
       "      <td>0.348958</td>\n",
       "    </tr>\n",
       "    <tr>\n",
       "      <th>std</th>\n",
       "      <td>31.972618</td>\n",
       "      <td>19.355807</td>\n",
       "      <td>15.952218</td>\n",
       "      <td>115.244002</td>\n",
       "      <td>7.884160</td>\n",
       "      <td>0.331329</td>\n",
       "      <td>11.760232</td>\n",
       "      <td>0.476951</td>\n",
       "    </tr>\n",
       "    <tr>\n",
       "      <th>min</th>\n",
       "      <td>0.000000</td>\n",
       "      <td>0.000000</td>\n",
       "      <td>0.000000</td>\n",
       "      <td>0.000000</td>\n",
       "      <td>0.000000</td>\n",
       "      <td>0.078000</td>\n",
       "      <td>21.000000</td>\n",
       "      <td>0.000000</td>\n",
       "    </tr>\n",
       "    <tr>\n",
       "      <th>25%</th>\n",
       "      <td>99.000000</td>\n",
       "      <td>62.000000</td>\n",
       "      <td>0.000000</td>\n",
       "      <td>0.000000</td>\n",
       "      <td>27.300000</td>\n",
       "      <td>0.243750</td>\n",
       "      <td>24.000000</td>\n",
       "      <td>0.000000</td>\n",
       "    </tr>\n",
       "    <tr>\n",
       "      <th>50%</th>\n",
       "      <td>117.000000</td>\n",
       "      <td>72.000000</td>\n",
       "      <td>23.000000</td>\n",
       "      <td>30.500000</td>\n",
       "      <td>32.000000</td>\n",
       "      <td>0.372500</td>\n",
       "      <td>29.000000</td>\n",
       "      <td>0.000000</td>\n",
       "    </tr>\n",
       "    <tr>\n",
       "      <th>75%</th>\n",
       "      <td>140.250000</td>\n",
       "      <td>80.000000</td>\n",
       "      <td>32.000000</td>\n",
       "      <td>127.250000</td>\n",
       "      <td>36.600000</td>\n",
       "      <td>0.626250</td>\n",
       "      <td>41.000000</td>\n",
       "      <td>1.000000</td>\n",
       "    </tr>\n",
       "    <tr>\n",
       "      <th>max</th>\n",
       "      <td>199.000000</td>\n",
       "      <td>122.000000</td>\n",
       "      <td>99.000000</td>\n",
       "      <td>846.000000</td>\n",
       "      <td>67.100000</td>\n",
       "      <td>2.420000</td>\n",
       "      <td>81.000000</td>\n",
       "      <td>1.000000</td>\n",
       "    </tr>\n",
       "  </tbody>\n",
       "</table>\n",
       "</div>"
      ],
      "text/plain": [
       "          Glucose  BloodPressure  SkinThickness     Insulin         BMI  \\\n",
       "count  768.000000     768.000000     768.000000  768.000000  768.000000   \n",
       "mean   120.894531      69.105469      20.536458   79.799479   31.992578   \n",
       "std     31.972618      19.355807      15.952218  115.244002    7.884160   \n",
       "min      0.000000       0.000000       0.000000    0.000000    0.000000   \n",
       "25%     99.000000      62.000000       0.000000    0.000000   27.300000   \n",
       "50%    117.000000      72.000000      23.000000   30.500000   32.000000   \n",
       "75%    140.250000      80.000000      32.000000  127.250000   36.600000   \n",
       "max    199.000000     122.000000      99.000000  846.000000   67.100000   \n",
       "\n",
       "       DiabetesPedigreeFunction         Age     Outcome  \n",
       "count                768.000000  768.000000  768.000000  \n",
       "mean                   0.471876   33.240885    0.348958  \n",
       "std                    0.331329   11.760232    0.476951  \n",
       "min                    0.078000   21.000000    0.000000  \n",
       "25%                    0.243750   24.000000    0.000000  \n",
       "50%                    0.372500   29.000000    0.000000  \n",
       "75%                    0.626250   41.000000    1.000000  \n",
       "max                    2.420000   81.000000    1.000000  "
      ]
     },
     "execution_count": 19,
     "metadata": {},
     "output_type": "execute_result"
    }
   ],
   "source": [
    "data.describe()"
   ]
  },
  {
   "cell_type": "code",
   "execution_count": 20,
   "id": "5e0609b5-a299-4c19-9793-e8a6365a2cab",
   "metadata": {},
   "outputs": [
    {
     "name": "stdout",
     "output_type": "stream",
     "text": [
      "<class 'pandas.core.frame.DataFrame'>\n",
      "RangeIndex: 768 entries, 0 to 767\n",
      "Data columns (total 8 columns):\n",
      " #   Column                    Non-Null Count  Dtype  \n",
      "---  ------                    --------------  -----  \n",
      " 0   Glucose                   768 non-null    int64  \n",
      " 1   BloodPressure             768 non-null    int64  \n",
      " 2   SkinThickness             768 non-null    int64  \n",
      " 3   Insulin                   768 non-null    int64  \n",
      " 4   BMI                       768 non-null    float64\n",
      " 5   DiabetesPedigreeFunction  768 non-null    float64\n",
      " 6   Age                       768 non-null    int64  \n",
      " 7   Outcome                   768 non-null    int64  \n",
      "dtypes: float64(2), int64(6)\n",
      "memory usage: 48.1 KB\n"
     ]
    }
   ],
   "source": [
    "data.info()"
   ]
  },
  {
   "cell_type": "code",
   "execution_count": 21,
   "id": "aeb964eb-c688-400d-b688-d668abda0a2d",
   "metadata": {},
   "outputs": [],
   "source": [
    "data = data.astype(float)"
   ]
  },
  {
   "cell_type": "code",
   "execution_count": 22,
   "id": "703f2b80-0b13-4264-b192-7c2b13ea9895",
   "metadata": {},
   "outputs": [
    {
     "name": "stdout",
     "output_type": "stream",
     "text": [
      "<class 'pandas.core.frame.DataFrame'>\n",
      "RangeIndex: 768 entries, 0 to 767\n",
      "Data columns (total 8 columns):\n",
      " #   Column                    Non-Null Count  Dtype  \n",
      "---  ------                    --------------  -----  \n",
      " 0   Glucose                   768 non-null    float64\n",
      " 1   BloodPressure             768 non-null    float64\n",
      " 2   SkinThickness             768 non-null    float64\n",
      " 3   Insulin                   768 non-null    float64\n",
      " 4   BMI                       768 non-null    float64\n",
      " 5   DiabetesPedigreeFunction  768 non-null    float64\n",
      " 6   Age                       768 non-null    float64\n",
      " 7   Outcome                   768 non-null    float64\n",
      "dtypes: float64(8)\n",
      "memory usage: 48.1 KB\n"
     ]
    }
   ],
   "source": [
    "data.info()"
   ]
  },
  {
   "cell_type": "code",
   "execution_count": 23,
   "id": "7d9896c7-ce6f-477f-b9b2-1de2ae9c0d17",
   "metadata": {},
   "outputs": [
    {
     "data": {
      "text/plain": [
       "<Axes: >"
      ]
     },
     "execution_count": 23,
     "metadata": {},
     "output_type": "execute_result"
    },
    {
     "data": {
      "image/png": "[encoded data removed]",
      "text/plain": [
       "<Figure size 1200x800 with 2 Axes>"
      ]
     },
     "metadata": {},
     "output_type": "display_data"
    }
   ],
   "source": [
    "import seaborn as sns\n",
    "plt.subplots(figsize=(12,8))\n",
    "sns.heatmap(data.corr(),cmap='inferno', annot=True)"
   ]
  },
  {
   "cell_type": "code",
   "execution_count": 24,
   "id": "244fefb3-5940-4199-89a5-7af8fbfb1a83",
   "metadata": {},
   "outputs": [
    {
     "data": {
      "text/plain": [
       "(array([1, 2, 3, 4, 5, 6, 7, 8]),\n",
       " [Text(1, 0, 'Glucose'),\n",
       "  Text(2, 0, 'BloodPressure'),\n",
       "  Text(3, 0, 'SkinThickness'),\n",
       "  Text(4, 0, 'Insulin'),\n",
       "  Text(5, 0, 'BMI'),\n",
       "  Text(6, 0, 'DiabetesPedigreeFunction'),\n",
       "  Text(7, 0, 'Age'),\n",
       "  Text(8, 0, 'Outcome')])"
      ]
     },
     "execution_count": 24,
     "metadata": {},
     "output_type": "execute_result"
    },
    {
     "data": {
      "image/png": "[encoded data removed]",
      "text/plain": [
       "<Figure size 1200x500 with 1 Axes>"
      ]
     },
     "metadata": {},
     "output_type": "display_data"
    }
   ],
   "source": [
    "plt.subplots(figsize=(12,5))\n",
    "data.boxplot(patch_artist=True, sym=\"k.\")\n",
    "plt.xlabel('Features')\n",
    "plt.ylabel('Data')\n",
    "plt.xticks(rotation=90)"
   ]
  },
  {
   "cell_type": "code",
   "execution_count": 25,
   "id": "6bdc9e51-c2d5-4364-98c5-ba3eb6900f95",
   "metadata": {},
   "outputs": [],
   "source": [
    "minimum = 0\n",
    "maximum = 0\n",
    "\n",
    "def detect_outlier(feature):\n",
    "    first_q = np.percentile(feature, 25)\n",
    "    third_q = np.percentile(feature, 75) \n",
    "    IQR = third_q - first_q\n",
    "    IQR *= 1.5\n",
    "    minimum = first_q - IQR \n",
    "    maximum = third_q + IQR\n",
    "    flag = False\n",
    "    \n",
    "    if(minimum > np.min(feature)):\n",
    "        flag = True\n",
    "    if(maximum < np.max(feature)):\n",
    "        flag = True\n",
    "    \n",
    "    return flag"
   ]
  },
  {
   "cell_type": "code",
   "execution_count": 26,
   "id": "25d18bde-0106-4c5d-982a-76d37017ced0",
   "metadata": {},
   "outputs": [],
   "source": [
    "def  remove_outlier(feature):\n",
    "    first_q = np.percentile(X[feature], 25)\n",
    "    third_q = np.percentile(X[feature], 75)\n",
    "    IQR = third_q - first_q\n",
    "    IQR *= 1.5\n",
    "    \n",
    "    minimum = first_q - IQR # the acceptable minimum value\n",
    "    maximum = third_q + IQR # the acceptable maximum value\n",
    "    \n",
    "    median = X[feature].median()\n",
    "    \n",
    "    \"\"\"\n",
    "    # any value beyond the acceptance range are considered\n",
    "    as outliers. \n",
    "    # we replace the outliers with the median value of that \n",
    "      feature.\n",
    "    \"\"\"\n",
    "    \n",
    "    X.loc[X[feature] < minimum, feature] = median \n",
    "    X.loc[X[feature] > maximum, feature] = median\n",
    "\n",
    "# taking all the columns except the last one\n",
    "# last column is the label\n",
    "\n",
    "X = data.iloc[:, :-1]\n",
    "for i in range(len(X.columns)): \n",
    "        remove_outlier(X.columns[i])"
   ]
  },
  {
   "cell_type": "code",
   "execution_count": 27,
   "id": "ae702981-b27b-4ff8-aaf9-1468e8c3d577",
   "metadata": {},
   "outputs": [],
   "source": [
    "X = data.iloc[:, :-1]"
   ]
  },
  {
   "cell_type": "code",
   "execution_count": 28,
   "id": "ba450f3f-af04-4203-b493-e9b30fa0e06c",
   "metadata": {},
   "outputs": [
    {
     "name": "stdout",
     "output_type": "stream",
     "text": [
      "Glucose Contains Outlier\n",
      "BloodPressure Contains Outlier\n",
      "SkinThickness Contains Outlier\n",
      "Insulin Contains Outlier\n",
      "BMI Contains Outlier\n",
      "DiabetesPedigreeFunction Contains Outlier\n",
      "Age Contains Outlier\n"
     ]
    }
   ],
   "source": [
    "for i in range(len(X.columns)):\n",
    "    if(detect_outlier(X[X.columns[i]])):\n",
    "        print(X.columns[i], \"Contains Outlier\")"
   ]
  },
  {
   "cell_type": "code",
   "execution_count": 29,
   "id": "c4d143ae-f156-47fa-b544-8153b2cc94f3",
   "metadata": {},
   "outputs": [],
   "source": [
    "for i in range (50):\n",
    "    for i in range(len(X.columns)):\n",
    "        remove_outlier(X.columns[i])"
   ]
  },
  {
   "cell_type": "code",
   "execution_count": 30,
   "id": "c1c5cd8b-e385-4589-886e-6784b580f058",
   "metadata": {},
   "outputs": [
    {
     "data": {
      "text/plain": [
       "(array([1, 2, 3, 4, 5, 6, 7]),\n",
       " [Text(1, 0, 'Glucose'),\n",
       "  Text(2, 0, 'BloodPressure'),\n",
       "  Text(3, 0, 'SkinThickness'),\n",
       "  Text(4, 0, 'Insulin'),\n",
       "  Text(5, 0, 'BMI'),\n",
       "  Text(6, 0, 'DiabetesPedigreeFunction'),\n",
       "  Text(7, 0, 'Age')])"
      ]
     },
     "execution_count": 30,
     "metadata": {},
     "output_type": "execute_result"
    },
    {
     "data": {
      "image/png": "[encoded data removed]",
      "text/plain": [
       "<Figure size 1200x500 with 1 Axes>"
      ]
     },
     "metadata": {},
     "output_type": "display_data"
    }
   ],
   "source": [
    "plt.subplots(figsize=(12,5))\n",
    "X.boxplot(patch_artist=True, sym=\"k.\")\n",
    "plt.xlabel('Features')\n",
    "plt.ylabel('Data')\n",
    "plt.xticks(rotation=90)"
   ]
  },
  {
   "cell_type": "code",
   "execution_count": 31,
   "id": "beec2778-7a4e-4d0b-8ef7-03ed2f94a8dc",
   "metadata": {},
   "outputs": [],
   "source": [
    "for i in range(len(X.columns)):\n",
    "    if(detect_outlier(X[X.columns[i]])):\n",
    "        print(X.columns[i], \"Contains Outlier\")"
   ]
  },
  {
   "cell_type": "code",
   "execution_count": 32,
   "id": "b770c6b9-bc95-4f99-9691-e9454b341fc4",
   "metadata": {},
   "outputs": [],
   "source": [
    "import numpy as np \n",
    "import pandas as pd\n",
    "import matplotlib.pyplot as plt\n",
    "%matplotlib inline\n",
    "\n",
    "import seaborn as sns\n",
    "sns.set()\n",
    "from sklearn.preprocessing import MinMaxScaler, StandardScaler, LabelEncoder\n",
    "from sklearn.svm import SVC\n",
    "from sklearn.naive_bayes import GaussianNB\n",
    "from sklearn.linear_model import LogisticRegression\n",
    "#from xgboost import XGBClassifier, plot_importance\n",
    "from sklearn.model_selection import train_test_split\n",
    "from sklearn.metrics import accuracy_score,confusion_matrix"
   ]
  },
  {
   "cell_type": "code",
   "execution_count": 33,
   "id": "bc1cf023-53d8-422e-b528-cd5909c75f98",
   "metadata": {
    "scrolled": true
   },
   "outputs": [
    {
     "data": {
      "text/html": [
       "<div>\n",
       "<style scoped>\n",
       "    .dataframe tbody tr th:only-of-type {\n",
       "        vertical-align: middle;\n",
       "    }\n",
       "\n",
       "    .dataframe tbody tr th {\n",
       "        vertical-align: top;\n",
       "    }\n",
       "\n",
       "    .dataframe thead th {\n",
       "        text-align: right;\n",
       "    }\n",
       "</style>\n",
       "<table border=\"1\" class=\"dataframe\">\n",
       "  <thead>\n",
       "    <tr style=\"text-align: right;\">\n",
       "      <th></th>\n",
       "      <th>Glucose</th>\n",
       "      <th>BloodPressure</th>\n",
       "      <th>SkinThickness</th>\n",
       "      <th>Insulin</th>\n",
       "      <th>BMI</th>\n",
       "      <th>DiabetesPedigreeFunction</th>\n",
       "      <th>Age</th>\n",
       "    </tr>\n",
       "  </thead>\n",
       "  <tbody>\n",
       "    <tr>\n",
       "      <th>0</th>\n",
       "      <td>0.866045</td>\n",
       "      <td>-0.009945</td>\n",
       "      <td>0.928238</td>\n",
       "      <td>-0.792609</td>\n",
       "      <td>0.237708</td>\n",
       "      <td>1.017166</td>\n",
       "      <td>1.783188</td>\n",
       "    </tr>\n",
       "    <tr>\n",
       "      <th>1</th>\n",
       "      <td>-1.205066</td>\n",
       "      <td>-0.562070</td>\n",
       "      <td>0.545788</td>\n",
       "      <td>-0.792609</td>\n",
       "      <td>-0.876820</td>\n",
       "      <td>-0.260674</td>\n",
       "      <td>-0.102476</td>\n",
       "    </tr>\n",
       "    <tr>\n",
       "      <th>2</th>\n",
       "      <td>2.016662</td>\n",
       "      <td>-0.746112</td>\n",
       "      <td>-1.302720</td>\n",
       "      <td>-0.792609</td>\n",
       "      <td>-1.402240</td>\n",
       "      <td>1.225510</td>\n",
       "      <td>-0.003231</td>\n",
       "    </tr>\n",
       "    <tr>\n",
       "      <th>3</th>\n",
       "      <td>-1.073567</td>\n",
       "      <td>-0.562070</td>\n",
       "      <td>0.163338</td>\n",
       "      <td>0.595090</td>\n",
       "      <td>-0.637992</td>\n",
       "      <td>-1.112568</td>\n",
       "      <td>-1.094931</td>\n",
       "    </tr>\n",
       "    <tr>\n",
       "      <th>4</th>\n",
       "      <td>0.504422</td>\n",
       "      <td>-2.954614</td>\n",
       "      <td>0.928238</td>\n",
       "      <td>1.687534</td>\n",
       "      <td>1.750281</td>\n",
       "      <td>-0.161132</td>\n",
       "      <td>0.096015</td>\n",
       "    </tr>\n",
       "  </tbody>\n",
       "</table>\n",
       "</div>"
      ],
      "text/plain": [
       "    Glucose  BloodPressure  SkinThickness   Insulin       BMI  \\\n",
       "0  0.866045      -0.009945       0.928238 -0.792609  0.237708   \n",
       "1 -1.205066      -0.562070       0.545788 -0.792609 -0.876820   \n",
       "2  2.016662      -0.746112      -1.302720 -0.792609 -1.402240   \n",
       "3 -1.073567      -0.562070       0.163338  0.595090 -0.637992   \n",
       "4  0.504422      -2.954614       0.928238  1.687534  1.750281   \n",
       "\n",
       "   DiabetesPedigreeFunction       Age  \n",
       "0                  1.017166  1.783188  \n",
       "1                 -0.260674 -0.102476  \n",
       "2                  1.225510 -0.003231  \n",
       "3                 -1.112568 -1.094931  \n",
       "4                 -0.161132  0.096015  "
      ]
     },
     "execution_count": 33,
     "metadata": {},
     "output_type": "execute_result"
    }
   ],
   "source": [
    "scaler = StandardScaler()\n",
    "scaled_data = scaler.fit_transform(X)\n",
    "scaled_df = pd.DataFrame(data = scaled_data, columns = X.columns)\n",
    "scaled_df.head()"
   ]
  },
  {
   "cell_type": "code",
   "execution_count": 39,
   "id": "9eefeb24-0675-48d7-a0a3-4589909edd79",
   "metadata": {},
   "outputs": [],
   "source": [
    "label = data[\"Outcome\"]"
   ]
  },
  {
   "cell_type": "code",
   "execution_count": 40,
   "id": "24608fa4-8ba8-46a8-9634-8e9a1c09f275",
   "metadata": {},
   "outputs": [],
   "source": [
    "encoder = LabelEncoder()\n",
    "label = encoder.fit_transform(label)"
   ]
  },
  {
   "cell_type": "code",
   "execution_count": 41,
   "id": "0907d858-c3bb-4078-96f4-8c873c7f9989",
   "metadata": {},
   "outputs": [],
   "source": [
    "X = scaled_df\n",
    "y = label \n",
    "\n",
    "X_train, X_test, y_train, y_test = train_test_split(X, y, test_size=0.2, random_state=420)"
   ]
  },
  {
   "cell_type": "code",
   "execution_count": 42,
   "id": "c99db73d-3e4f-41cc-8185-625f62b3836c",
   "metadata": {},
   "outputs": [
    {
     "name": "stdout",
     "output_type": "stream",
     "text": [
      "(614, 7) (154,)\n",
      "(614,) (154,)\n"
     ]
    }
   ],
   "source": [
    "print(X_train.shape, y_test.shape)\n",
    "print(y_train.shape, y_test.shape)"
   ]
  },
  {
   "cell_type": "code",
   "execution_count": 44,
   "id": "e8c48cf3-91cb-4463-8a75-c4c862963091",
   "metadata": {},
   "outputs": [],
   "source": [
    "from sklearn.feature_selection import SelectKBest\n",
    "from sklearn.feature_selection import f_classif\n",
    "\n",
    "xnew2=SelectKBest(f_classif, k=7).fit_transform(X, y)"
   ]
  },
  {
   "cell_type": "code",
   "execution_count": 45,
   "id": "7c0a3b25-75db-421b-ab74-d9e4df458397",
   "metadata": {},
   "outputs": [
    {
     "name": "stdout",
     "output_type": "stream",
     "text": [
      "                   Features    F_Scores\n",
      "0                   Glucose  245.667855\n",
      "6                       Age   79.385372\n",
      "4                       BMI   68.570153\n",
      "1             BloodPressure   21.820218\n",
      "5  DiabetesPedigreeFunction   14.502288\n",
      "2             SkinThickness    3.489838\n",
      "3                   Insulin    3.165892\n"
     ]
    }
   ],
   "source": [
    " import sklearn.feature_selection as fs\n",
    " import matplotlib.pyplot as plt\n",
    " df2 = fs.SelectKBest(k='all')\n",
    "\n",
    " df2.fit(X, y)\n",
    "\n",
    " names = X.columns.values[df2.get_support()]\n",
    "\n",
    " scores = df2.scores_[df2.get_support()]\n",
    "\n",
    " names_scores = list(zip(names, scores))\n",
    "\n",
    " ns_df = pd.DataFrame(data = names_scores, columns=\n",
    "\n",
    "  ['Features','F_Scores'])\n",
    "\n",
    " ns_df_sorted = ns_df.sort_values(['F_Scores','Features'], ascending =\n",
    "\n",
    "  [False, True])\n",
    "\n",
    " print(ns_df_sorted)"
   ]
  },
  {
   "cell_type": "code",
   "execution_count": 47,
   "id": "ebe444e0-a34d-4afa-bdf5-29005b3b0666",
   "metadata": {},
   "outputs": [
    {
     "name": "stdout",
     "output_type": "stream",
     "text": [
      "                        Results: Ordinary least squares\n",
      "===============================================================================\n",
      "Model:                  OLS              Adj. R-squared (uncentered): 0.191    \n",
      "Dependent Variable:     y                AIC:                         969.4762 \n",
      "Date:                   2024-10-06 11:21 BIC:                         1000.4162\n",
      "No. Observations:       614              Log-Likelihood:              -477.74  \n",
      "Df Model:               7                F-statistic:                 21.67    \n",
      "Df Residuals:           607              Prob (F-statistic):          3.63e-26 \n",
      "R-squared (uncentered): 0.200            Scale:                       0.28076  \n",
      "--------------------------------------------------------------------------------\n",
      "                              Coef.   Std.Err.     t     P>|t|    [0.025  0.975]\n",
      "--------------------------------------------------------------------------------\n",
      "Glucose                       0.1896    0.0228   8.3276  0.0000   0.1449  0.2343\n",
      "BloodPressure                 0.0027    0.0229   0.1182  0.9060  -0.0423  0.0477\n",
      "SkinThickness                 0.0063    0.0259   0.2415  0.8093  -0.0446  0.0571\n",
      "Insulin                      -0.0172    0.0252  -0.6820  0.4955  -0.0667  0.0323\n",
      "BMI                           0.0905    0.0241   3.7481  0.0002   0.0431  0.1379\n",
      "DiabetesPedigreeFunction      0.0351    0.0225   1.5627  0.1186  -0.0090  0.0792\n",
      "Age                           0.0755    0.0230   3.2871  0.0011   0.0304  0.1207\n",
      "-------------------------------------------------------------------------------\n",
      "Omnibus:                  28.562            Durbin-Watson:               1.142 \n",
      "Prob(Omnibus):            0.000             Jarque-Bera (JB):            20.703\n",
      "Skew:                     0.343             Prob(JB):                    0.000 \n",
      "Kurtosis:                 2.418             Condition No.:               2     \n",
      "===============================================================================\n",
      "Notes:\n",
      "[1] R² is computed without centering (uncentered) since the\n",
      "model does not contain a constant.\n",
      "[2] Standard Errors assume that the covariance matrix of the errors is\n",
      "correctly specified.\n"
     ]
    }
   ],
   "source": [
    "import statsmodels.api as sm\n",
    "import pandas\n",
    "from patsy import dmatrices\n",
    "logit_model = sm.OLS(y_train, X_train)\n",
    "result = logit_model.fit()\n",
    "print(result.summary2())"
   ]
  },
  {
   "cell_type": "code",
   "execution_count": 48,
   "id": "0521a2d9-e710-4f39-8a01-1d2e97da7397",
   "metadata": {},
   "outputs": [
    {
     "data": {
      "text/plain": [
       "Glucose                     1.208797\n",
       "BloodPressure               1.002712\n",
       "SkinThickness               1.006275\n",
       "Insulin                     0.982953\n",
       "BMI                         1.094674\n",
       "DiabetesPedigreeFunction    1.035717\n",
       "Age                         1.078466\n",
       "dtype: float64"
      ]
     },
     "execution_count": 48,
     "metadata": {},
     "output_type": "execute_result"
    }
   ],
   "source": [
    "np.exp(result.params)"
   ]
  },
  {
   "cell_type": "code",
   "execution_count": 49,
   "id": "06f80d72-d65f-4036-9fa9-8761ba72ee4d",
   "metadata": {},
   "outputs": [
    {
     "name": "stdout",
     "output_type": "stream",
     "text": [
      "                                5%       95%  Odds Ratio\n",
      "Glucose                   1.155931  1.264080    1.208797\n",
      "BloodPressure             0.958567  1.048891    1.002712\n",
      "SkinThickness             0.956364  1.058791    1.006275\n",
      "Insulin                   0.935472  1.032845    0.982953\n",
      "BMI                       1.044001  1.147805    1.094674\n",
      "DiabetesPedigreeFunction  0.991031  1.082417    1.035717\n",
      "Age                       1.030875  1.128254    1.078466\n"
     ]
    }
   ],
   "source": [
    "params = result.params\n",
    "conf = result.conf_int()\n",
    "conf['Odds Ratio'] = params\n",
    "conf.columns = ['5%', '95%', 'Odds Ratio']\n",
    "print(np.exp(conf))"
   ]
  },
  {
   "cell_type": "code",
   "execution_count": 50,
   "id": "100d3890-70e6-4160-8c6b-652a6f9392d9",
   "metadata": {},
   "outputs": [
    {
     "data": {
      "text/plain": [
       "Glucose                     5.491825e-16\n",
       "BMI                         1.951621e-04\n",
       "Age                         1.070720e-03\n",
       "DiabetesPedigreeFunction    1.186497e-01\n",
       "Insulin                     4.954982e-01\n",
       "SkinThickness               8.092571e-01\n",
       "BloodPressure               9.059862e-01\n",
       "dtype: float64"
      ]
     },
     "execution_count": 50,
     "metadata": {},
     "output_type": "execute_result"
    }
   ],
   "source": [
    "result.pvalues.sort_values()"
   ]
  },
  {
   "cell_type": "code",
   "execution_count": 51,
   "id": "9f0d0011-e0ba-4c28-933f-633ae5af2410",
   "metadata": {},
   "outputs": [],
   "source": [
    "#from sklearn.utils import class_weight\n",
    "#class_weights = class_weight.compute_class_weight('balanced',\n",
    "                                                # np.unique(y_train),\n",
    "                                                # y_train)\n",
    "#model.fit(X_train, y_train, class_weight=class_weights)"
   ]
  },
  {
   "cell_type": "code",
   "execution_count": 52,
   "id": "2bdc6cd8-2351-41b2-9173-7b39514f65f9",
   "metadata": {},
   "outputs": [
    {
     "name": "stdout",
     "output_type": "stream",
     "text": [
      "Best parameters : {'class_weight': {0: 0.5236842105263158, 1: 0.47631578947368425}}\n"
     ]
    },
    {
     "data": {
      "text/plain": [
       "<Axes: xlabel='weight'>"
      ]
     },
     "execution_count": 52,
     "metadata": {},
     "output_type": "execute_result"
    },
    {
     "data": {
      "image/png": "[encoded data removed]",
      "text/plain": [
       "<Figure size 640x480 with 1 Axes>"
      ]
     },
     "metadata": {},
     "output_type": "display_data"
    }
   ],
   "source": [
    "from sklearn.model_selection import GridSearchCV\n",
    "\n",
    "weights = np.linspace(0.05, 0.95, 20)\n",
    "\n",
    "gsc = GridSearchCV(\n",
    "    estimator=LogisticRegression(),\n",
    "    param_grid={\n",
    "        'class_weight': [{0: x, 1: 1.0-x} for x in weights]\n",
    "    },\n",
    "    scoring='accuracy',\n",
    "    cv=10\n",
    ")\n",
    "grid_result = gsc.fit(X, y)\n",
    "\n",
    "print(\"Best parameters : %s\" % grid_result.best_params_)\n",
    "\n",
    "# Plot the weights vs f1 score\n",
    "dataz = pd.DataFrame({ 'score': grid_result.cv_results_['mean_test_score'],\n",
    "                       'weight': weights })\n",
    "dataz.plot(x='weight')"
   ]
  },
  {
   "cell_type": "code",
   "execution_count": 53,
   "id": "21978c65-aa1e-4924-97c5-803267eaedb0",
   "metadata": {},
   "outputs": [],
   "source": [
    "#LR"
   ]
  },
  {
   "cell_type": "code",
   "execution_count": 55,
   "id": "022f9028-bb4d-40e0-89e1-fb26f6da4d8f",
   "metadata": {},
   "outputs": [
    {
     "name": "stdout",
     "output_type": "stream",
     "text": [
      "              precision    recall  f1-score   support\n",
      "\n",
      "           0       0.80      0.79      0.80        99\n",
      "           1       0.63      0.65      0.64        55\n",
      "\n",
      "    accuracy                           0.74       154\n",
      "   macro avg       0.72      0.72      0.72       154\n",
      "weighted avg       0.74      0.74      0.74       154\n",
      "\n"
     ]
    },
    {
     "data": {
      "text/plain": [
       "0.7212121212121212"
      ]
     },
     "execution_count": 55,
     "metadata": {},
     "output_type": "execute_result"
    },
    {
     "data": {
      "image/png": "[encoded data removed]",
      "text/plain": [
       "<Figure size 640x480 with 1 Axes>"
      ]
     },
     "metadata": {},
     "output_type": "display_data"
    }
   ],
   "source": [
    "from sklearn.linear_model import LogisticRegression\n",
    "from sklearn.metrics import confusion_matrix, classification_report\n",
    "from mlxtend.plotting import plot_decision_regions, plot_confusion_matrix\n",
    "from matplotlib import pyplot as plt\n",
    "lr = LogisticRegression(class_weight='balanced',random_state=420)\n",
    "\n",
    "# Fit..\n",
    "lr.fit(X_train, y_train)\n",
    "\n",
    "# Predict..\n",
    "y_pred = lr.predict(X_test)\n",
    "\n",
    "# Evaluate the model\n",
    "print(classification_report(y_test, y_pred))\n",
    "plot_confusion_matrix(confusion_matrix(y_test, y_pred))\n",
    "from sklearn.metrics import roc_curve, auc\n",
    "false_positive_rate, true_positive_rate, thresholds = roc_curve(y_test, y_pred)\n",
    "roc_auc = auc(false_positive_rate, true_positive_rate)\n",
    "roc_auc"
   ]
  },
  {
   "cell_type": "code",
   "execution_count": 56,
   "id": "c75e3720-1695-4f1a-9cf9-d7f65708a62c",
   "metadata": {},
   "outputs": [
    {
     "name": "stdout",
     "output_type": "stream",
     "text": [
      "              precision    recall  f1-score   support\n",
      "\n",
      "           0       0.87      0.83      0.85        99\n",
      "           1       0.72      0.78      0.75        55\n",
      "\n",
      "    accuracy                           0.81       154\n",
      "   macro avg       0.79      0.81      0.80       154\n",
      "weighted avg       0.82      0.81      0.81       154\n",
      "\n"
     ]
    },
    {
     "data": {
      "text/plain": [
       "0.805050505050505"
      ]
     },
     "execution_count": 56,
     "metadata": {},
     "output_type": "execute_result"
    },
    {
     "data": {
      "image/png": "[encoded data removed]",
      "text/plain": [
       "<Figure size 640x480 with 1 Axes>"
      ]
     },
     "metadata": {},
     "output_type": "display_data"
    }
   ],
   "source": [
    "from sklearn.svm import SVC\n",
    "\n",
    "clf_svc_rbf = SVC(kernel=\"rbf\",class_weight='balanced',random_state=4200)\n",
    "clf_svc_rbf.fit(X_train,y_train)\n",
    "y_pred_clf_svc_rbf = clf_svc_rbf.predict(X_test)\n",
    "\n",
    "\n",
    "import matplotlib.pyplot as plt\n",
    "cm = confusion_matrix(y_test,y_pred_clf_svc_rbf)\n",
    "\n",
    "#plt.figure(figsize=(5,5))\n",
    "#sns.heatmap(cm,annot=True)\n",
    "#plt.show()\n",
    "\n",
    "#print(classification_report(y_test,y_pred_clf_svc_rbf))\n",
    "\n",
    "print(classification_report(y_test, y_pred_clf_svc_rbf))\n",
    "plot_confusion_matrix(confusion_matrix(y_test, y_pred_clf_svc_rbf))\n",
    "\n",
    "from sklearn.metrics import roc_curve, auc\n",
    "false_positive_rate, true_positive_rate, thresholds = roc_curve(y_test, y_pred_clf_svc_rbf)\n",
    "roc_auc = auc(false_positive_rate, true_positive_rate)\n",
    "roc_auc"
   ]
  },
  {
   "cell_type": "code",
   "execution_count": 57,
   "id": "8465a70f-f5f2-4a40-9f94-71d4a91a65b4",
   "metadata": {},
   "outputs": [
    {
     "name": "stdout",
     "output_type": "stream",
     "text": [
      "              precision    recall  f1-score   support\n",
      "\n",
      "           0       0.76      0.87      0.81        99\n",
      "           1       0.68      0.51      0.58        55\n",
      "\n",
      "    accuracy                           0.74       154\n",
      "   macro avg       0.72      0.69      0.70       154\n",
      "weighted avg       0.73      0.74      0.73       154\n",
      "\n"
     ]
    },
    {
     "data": {
      "text/plain": [
       "0.6888888888888889"
      ]
     },
     "execution_count": 57,
     "metadata": {},
     "output_type": "execute_result"
    },
    {
     "data": {
      "image/png": "[encoded data removed]",
      "text/plain": [
       "<Figure size 640x480 with 1 Axes>"
      ]
     },
     "metadata": {},
     "output_type": "display_data"
    }
   ],
   "source": [
    "from sklearn.ensemble import RandomForestClassifier\n",
    "\n",
    "rd = RandomForestClassifier(class_weight='balanced',random_state=4200)\n",
    "rd.fit(X_train,y_train)\n",
    "y_pred_rd = rd.predict(X_test)\n",
    "\n",
    "\n",
    "import matplotlib.pyplot as plt\n",
    "cm = confusion_matrix(y_test,y_pred_rd)\n",
    "\n",
    "#plt.figure(figsize=(5,5))\n",
    "#sns.heatmap(cm,annot=True,linewidths=.3)\n",
    "#plt.show()\n",
    "\n",
    "print(classification_report(y_test,y_pred_rd))\n",
    "plot_confusion_matrix(confusion_matrix(y_test, y_pred_rd))\n",
    "\n",
    "from sklearn.metrics import roc_curve, auc\n",
    "false_positive_rate, true_positive_rate, thresholds = roc_curve(y_test, y_pred_rd)\n",
    "roc_auc = auc(false_positive_rate, true_positive_rate)\n",
    "roc_auc"
   ]
  },
  {
   "cell_type": "code",
   "execution_count": 70,
   "id": "ff03ff6e-fa1c-4687-9e35-f0ed2ec54953",
   "metadata": {},
   "outputs": [
    {
     "name": "stdout",
     "output_type": "stream",
     "text": [
      "              precision    recall  f1-score   support\n",
      "\n",
      "           0       0.77      0.82      0.79        99\n",
      "           1       0.63      0.56      0.60        55\n",
      "\n",
      "    accuracy                           0.73       154\n",
      "   macro avg       0.70      0.69      0.70       154\n",
      "weighted avg       0.72      0.73      0.72       154\n",
      "\n"
     ]
    },
    {
     "data": {
      "image/png": "[encoded data removed]",
      "text/plain": [
       "<Figure size 640x480 with 1 Axes>"
      ]
     },
     "metadata": {},
     "output_type": "display_data"
    },
    {
     "data": {
      "text/plain": [
       "0.6909090909090908"
      ]
     },
     "execution_count": 70,
     "metadata": {},
     "output_type": "execute_result"
    }
   ],
   "source": [
    "from sklearn.tree import DecisionTreeClassifier\n",
    "from sklearn.metrics import classification_report, confusion_matrix, roc_curve, auc\n",
    "import matplotlib.pyplot as plt\n",
    "\n",
    "# Initialize the Decision Tree Classifier\n",
    "clf_dt = DecisionTreeClassifier(criterion='gini', class_weight='balanced', random_state=4200)\n",
    "clf_dt.fit(X_train, y_train)  # Train the model\n",
    "\n",
    "# Make predictions on the test set\n",
    "y_pred_clf_dt = clf_dt.predict(X_test)\n",
    "\n",
    "# Print classification report\n",
    "print(classification_report(y_test, y_pred_clf_dt))\n",
    "\n",
    "# Plot confusion matrix\n",
    "cm = confusion_matrix(y_test, y_pred_clf_dt)\n",
    "\n",
    "# Uncomment the following lines if you want to use seaborn heatmap for visualization\n",
    "# plt.figure(figsize=(5,5))\n",
    "# sns.heatmap(cm, annot=True)\n",
    "# plt.show()\n",
    "\n",
    "# Alternatively, you can plot the confusion matrix using sklearn's built-in function\n",
    "plot_confusion_matrix(confusion_matrix(y_test, y_pred_clf_dt))\n",
    "plt.show()\n",
    "\n",
    "# ROC Curve and AUC score\n",
    "false_positive_rate, true_positive_rate, thresholds = roc_curve(y_test, y_pred_clf_dt)\n",
    "roc_auc = auc(false_positive_rate, true_positive_rate)\n",
    "\n",
    "# Print AUC score\n",
    "roc_auc"
   ]
  },
  {
   "cell_type": "code",
   "execution_count": 58,
   "id": "bd52fae3-5f9b-41e6-961e-8dab33a588ee",
   "metadata": {},
   "outputs": [],
   "source": [
    "#svm"
   ]
  },
  {
   "cell_type": "code",
   "execution_count": 59,
   "id": "26062839-7bc5-431f-8881-a1750147ccc1",
   "metadata": {},
   "outputs": [
    {
     "name": "stdout",
     "output_type": "stream",
     "text": [
      "Accuracy: 0.7636 (0.0295)\n"
     ]
    },
    {
     "data": {
      "text/plain": [
       "array([0.75324675, 0.77272727, 0.72077922, 0.75974026, 0.81168831])"
      ]
     },
     "execution_count": 59,
     "metadata": {},
     "output_type": "execute_result"
    }
   ],
   "source": [
    "# evaluate a logistic regression model using k-fold cross-validation\n",
    "from numpy import mean\n",
    "from numpy import std\n",
    "from sklearn.model_selection import KFold\n",
    "from sklearn.model_selection import cross_val_score\n",
    "from sklearn.model_selection import ShuffleSplit\n",
    "\n",
    "from sklearn.linear_model import LogisticRegression\n",
    "# create dataset\n",
    "#X, y = make_classification(n_samples=1000, n_features=20, n_informative=15, n_redundant=5, random_state=1)\n",
    "# prepare the cross-validation procedure\n",
    "#cv = KFold(n_splits=5, test_size= 0.2, random_state=0)\n",
    "cv = ShuffleSplit(n_splits=5, test_size=0.2, random_state=42)\n",
    "# create model\n",
    "class_weight='balanced'\n",
    "model = SVC(kernel='rbf', C=1, class_weight=class_weight)\n",
    "# evaluate model\n",
    "scores = cross_val_score(model, X, y, scoring='accuracy', cv=cv, n_jobs=-1)\n",
    "# report performance\n",
    "print('Accuracy: %.4f (%.4f)' % (mean(scores), std(scores)))\n",
    "scores"
   ]
  },
  {
   "cell_type": "markdown",
   "id": "d345e2da-04ad-4401-963d-ee48ef7b3c8b",
   "metadata": {},
   "source": [
    "# from numpy import mean\n",
    "from numpy import std\n",
    "from sklearn.model_selection import KFold\n",
    "from sklearn.model_selection import cross_val_score\n",
    "from sklearn.model_selection import ShuffleSplit\n",
    "\n",
    "from sklearn.linear_model import LogisticRegression\n",
    "# create dataset\n",
    "#X, y = make_classification(n_samples=1000, n_features=20, n_informative=15, n_redundant=5, random_state=1)\n",
    "# prepare the cross-validation procedure\n",
    "#cv = KFold(n_splits=5, test_size= 0.2, random_state=0)\n",
    "cv = ShuffleSplit(n_splits=5, test_size=0.2, random_state=42)\n",
    "# create model\n",
    "class_weight='balanced'\n",
    "model = LogisticRegression(class_weight=class_weight)\n",
    "# evaluate model\n",
    "scores = cross_val_score(model, X, y, scoring='accuracy', cv=cv, n_jobs=-1)\n",
    "# report performance\n",
    "print('Accuracy: %.4f (%.4f)' % (mean(scores), std(scores)))\n",
    "scores"
   ]
  },
  {
   "cell_type": "code",
   "execution_count": 63,
   "id": "a6f94676-a017-49f1-8ff7-2f0d666f31ca",
   "metadata": {},
   "outputs": [
    {
     "name": "stdout",
     "output_type": "stream",
     "text": [
      "Accuracy: 0.7519 (0.0300)\n"
     ]
    },
    {
     "data": {
      "text/plain": [
       "array([0.77272727, 0.77272727, 0.73376623, 0.77922078, 0.7012987 ])"
      ]
     },
     "execution_count": 63,
     "metadata": {},
     "output_type": "execute_result"
    }
   ],
   "source": [
    "from numpy import mean\n",
    "from numpy import std\n",
    "from sklearn.model_selection import KFold\n",
    "from sklearn.model_selection import cross_val_score\n",
    "from sklearn.ensemble import RandomForestClassifier\n",
    "from sklearn.model_selection import ShuffleSplit\n",
    "\n",
    "# create dataset\n",
    "#X, y = make_classification(n_samples=1000, n_features=20, n_informative=15, n_redundant=5, random_state=1)\n",
    "# prepare the cross-validation procedure\n",
    "#cv = KFold(n_splits=5, test_size= 0.2, random_state=0)\n",
    "cv = ShuffleSplit(n_splits=5, test_size=0.2, random_state=42)\n",
    "# create model\n",
    "class_weight='balanced'\n",
    "model = RandomForestClassifier(class_weight=class_weight)\n",
    "# evaluate model\n",
    "scores = cross_val_score(model, X, y, scoring='accuracy', cv=cv, n_jobs=-1)\n",
    "# report performance\n",
    "print('Accuracy: %.4f (%.4f)' % (mean(scores), std(scores)))\n",
    "scores"
   ]
  },
  {
   "cell_type": "code",
   "execution_count": 71,
   "id": "3ccf6a3c-4de4-40e2-adf8-c88d0899a1f5",
   "metadata": {},
   "outputs": [
    {
     "name": "stdout",
     "output_type": "stream",
     "text": [
      "Accuracy: 0.6922 (0.0416)\n"
     ]
    },
    {
     "data": {
      "text/plain": [
       "array([0.72077922, 0.66883117, 0.74025974, 0.70779221, 0.62337662])"
      ]
     },
     "execution_count": 71,
     "metadata": {},
     "output_type": "execute_result"
    }
   ],
   "source": [
    "from numpy import mean\n",
    "from numpy import std\n",
    "from sklearn.model_selection import KFold\n",
    "from sklearn.model_selection import cross_val_score\n",
    "from sklearn.model_selection import ShuffleSplit\n",
    "from sklearn.tree import DecisionTreeClassifier\n",
    "\n",
    "\n",
    "# create dataset\n",
    "#X, y = make_classification(n_samples=1000, n_features=20, n_informative=15, n_redundant=5, random_state=1)\n",
    "# prepare the cross-validation procedure\n",
    "#cv = KFold(n_splits=5, test_size= 0.2, random_state=0)\n",
    "cv = ShuffleSplit(n_splits=5, test_size=0.2, random_state=4200)\n",
    "# create model\n",
    "model = DecisionTreeClassifier(class_weight=class_weight)\n",
    "# evaluate model\n",
    "scores = cross_val_score(model, X, y, scoring='accuracy', cv=cv, n_jobs=-1)\n",
    "# report performance\n",
    "print('Accuracy: %.4f (%.4f)' % (mean(scores), std(scores)))\n",
    "scores"
   ]
  },
  {
   "cell_type": "code",
   "execution_count": null,
   "id": "9ad2a79c-c075-4039-a5e4-ea8ac0ef5b89",
   "metadata": {},
   "outputs": [],
   "source": []
  }
 ],
 "metadata": {
  "kernelspec": {
   "display_name": "Python 3 (ipykernel)",
   "language": "python",
   "name": "python3"
  },
  "language_info": {
   "codemirror_mode": {
    "name": "ipython",
    "version": 3
   },
   "file_extension": ".py",
   "mimetype": "text/x-python",
   "name": "python",
   "nbconvert_exporter": "python",
   "pygments_lexer": "ipython3",
   "version": "3.9.18"
  }
 },
 "nbformat": 4,
 "nbformat_minor": 5
}
